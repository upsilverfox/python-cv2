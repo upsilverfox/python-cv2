{
 "cells": [
  {
   "cell_type": "markdown",
   "metadata": {},
   "source": [
    "## 另一个方法是通过itemset()函数可设置指定像素在指定通道的值（itemset()有两个参数：一个三元组(x,y和索引）和要设定的值）。如下例子将坐标（150,120）的当前蓝色值127变为255"
   ]
  },
  {
   "cell_type": "code",
   "execution_count": 2,
   "metadata": {},
   "outputs": [
    {
     "name": "stdout",
     "output_type": "stream",
     "text": [
      "5\n",
      "255\n"
     ]
    }
   ],
   "source": [
    "import cv2\n",
    "import numpy as np\n",
    "\n",
    "img = cv2.imread('flower.jpg')\n",
    "print(img.item(150, 120, 0))  # 打印当前坐标点的蓝色值\n",
    "img.itemset((150, 120, 0), 255)\n",
    "print(img.item(150, 120, 0))"
   ]
  },
  {
   "cell_type": "markdown",
   "metadata": {},
   "source": [
    "## 建议使用内置的滤波器和方法来处理整个图像，上述方法只适合于处理特定的小区域。"
   ]
  },
  {
   "cell_type": "markdown",
   "metadata": {},
   "source": [
    "## 下面介绍操作通道：将指定通道（B,G,R）的所有值置为0.\n",
    "## （注：通过循环来处理Python数组的效率非常低，应该尽量避免这样的操作。\n",
    "## 使用数组索引可以高效地操作像素。像素操作是一个高代价的低效操作，特别是在视频数据处理时，\n",
    "## 会发现要等很久才能得到结果。可用索引(indexing)来解决该问题）\n",
    "### 以下代码可将图像所有的G（绿色）值设为0"
   ]
  },
  {
   "cell_type": "code",
   "execution_count": 3,
   "metadata": {},
   "outputs": [
    {
     "data": {
      "text/plain": [
       "-1"
      ]
     },
     "execution_count": 3,
     "metadata": {},
     "output_type": "execute_result"
    }
   ],
   "source": [
    "import cv2\n",
    "import numpy as np\n",
    "\n",
    "img = cv2.imread('flower.jpg')\n",
    "img[:, :, 1] = 0\n",
    "cv2.imshow('my image', img)\n",
    "cv2.waitKey()"
   ]
  },
  {
   "cell_type": "markdown",
   "metadata": {},
   "source": [
    "### 通过NumPy数组的索引访问原始像素，还可设定感兴趣区域(Region Of Interest, ROI)。一旦设定了该区域，就可以执行许多操作，例如，将该区域与变量绑定，然后设定第二个区域，并将第一个区域的值分配给第二个区域（将图像的一部分拷贝到该图像的另一个位置）："
   ]
  },
  {
   "cell_type": "code",
   "execution_count": 8,
   "metadata": {},
   "outputs": [
    {
     "data": {
      "text/plain": [
       "-1"
      ]
     },
     "execution_count": 8,
     "metadata": {},
     "output_type": "execute_result"
    }
   ],
   "source": [
    "import cv2\n",
    "import numpy as np\n",
    "\n",
    "img = cv2.imread('flower.jpg')\n",
    "roi = img[0:100, 0:100]\n",
    "img[100:200, 100:200] = roi # 此处需考虑所用图像的尺寸，不能超过，并确保两个区域的大小一样\n",
    "cv2.imshow('my image', img)\n",
    "cv2.waitKey()"
   ]
  },
  {
   "cell_type": "markdown",
   "metadata": {},
   "source": [
    "## 此外，还可使用numpy.array来获得图像其他属性。\n",
    "\n",
    "### shape：NumPy返回包含宽度、高度和通道数（如果图像是彩色的）数组，这在调试图像类型时很有用；如果图像是单色或灰度的，将不包含通道值；\n",
    "\n",
    "### size：该属性是指图像像素的大小；\n",
    "\n",
    "### datatype：该属性会得到图像的数据类型（通常为一个无符号整数类型的变量和该类型占的位数，比如unit8类型）"
   ]
  },
  {
   "cell_type": "code",
   "execution_count": 5,
   "metadata": {},
   "outputs": [
    {
     "name": "stdout",
     "output_type": "stream",
     "text": [
      "(848, 1200, 3)\n",
      "3052800\n",
      "uint8\n"
     ]
    }
   ],
   "source": [
    "import cv2\n",
    "import numpy as np\n",
    "\n",
    "img = cv2.imread('flower.jpg')\n",
    "print(img.shape)\n",
    "print(img.size)\n",
    "print(img.dtype)"
   ]
  },
  {
   "cell_type": "markdown",
   "metadata": {},
   "source": [
    "## 在窗口显示图像\n",
    "### 用imshow()函数实现显示图像的操作。imshow()函数有两个参数：显示图像的帧名字以及要显示的图像本身。"
   ]
  },
  {
   "cell_type": "code",
   "execution_count": 6,
   "metadata": {},
   "outputs": [],
   "source": [
    "import cv2\n",
    "import numpy as np\n",
    "img = cv2.imread('flower.jpg')\n",
    "cv2.imshow('my image', img)\n",
    "cv2.waitKey()\n",
    "cv2.destroyAllWindows()   # 释放由OpenCV创建的所有窗口"
   ]
  }
 ],
 "metadata": {
  "kernelspec": {
   "display_name": "Python 3",
   "language": "python",
   "name": "python3"
  },
  "language_info": {
   "codemirror_mode": {
    "name": "ipython",
    "version": 3
   },
   "file_extension": ".py",
   "mimetype": "text/x-python",
   "name": "python",
   "nbconvert_exporter": "python",
   "pygments_lexer": "ipython3",
   "version": "3.5.6"
  }
 },
 "nbformat": 4,
 "nbformat_minor": 2
}
